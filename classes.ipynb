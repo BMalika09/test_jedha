{
 "cells": [
  {
   "cell_type": "markdown",
   "metadata": {},
   "source": [
    "# __init__ / self ?"
   ]
  },
  {
   "cell_type": "markdown",
   "metadata": {},
   "source": [
    "Explication simple:\n",
    "\n",
    "J'ai une boite dans laquelle je veux créer des jouets avec des caractéristiques précises et différentes\n",
    "Exemple: je veux créer plusieurs petites voitures et chaque voiture aura une marque, une couleur et une vitesse\n",
    "\n",
    "#### ___init___\n",
    "c'est le **constructeur**. C'est ma recette pour fabriquer la voiture. Il va me demander \"quelle marque, couleur, vitesse?\". Grace à lui chaque voiture aura ses propres caractéristiques\n",
    "Il est appelé automatiquement pour assembler ces caractéristiques\n",
    "\n",
    "#### self\n",
    "Dans notre collection, on a plusieurs voitures. Il faut un moyen de dire « Cette voiture-là est rouge et rapide, et cette autre voiture est bleue et plus lente. » C’est là que self entre en jeu.\n",
    "C'est pour designer chaque jouet en particulier\n",
    "self.couleur = \"rouge\", tu dis que « cette voiture spécifique est rouge ». "
   ]
  },
  {
   "cell_type": "code",
   "execution_count": 4,
   "metadata": {},
   "outputs": [
    {
     "name": "stdout",
     "output_type": "stream",
     "text": [
      "Marque: Toyota, Couleur: rouge, Vitesse: 100 km/h\n",
      "Marque: Ford, Couleur: bleue, Vitesse: 80 km/h\n"
     ]
    }
   ],
   "source": [
    "class Voiture:\n",
    "    def __init__(self, marque, couleur, vitesse): # mon constructeur à qui on donne les info\n",
    "        self.marque = marque   \n",
    "        self.couleur = couleur \n",
    "        self.vitesse = vitesse \n",
    "\n",
    "    def afficher(self):\n",
    "        print(f\"Marque: {self.marque}, Couleur: {self.couleur}, Vitesse: {self.vitesse} km/h\")\n",
    "\n",
    "#on crée deux voitures\n",
    "ma_voiture = Voiture(\"Toyota\", \"rouge\", 100)\n",
    "ta_voiture = Voiture(\"Ford\", \"bleue\", 80)\n",
    "\n",
    "ma_voiture.afficher()\n",
    "ta_voiture.afficher()\n"
   ]
  },
  {
   "cell_type": "markdown",
   "metadata": {},
   "source": [
    "# 2. Une simple boite à outil (NO __init No self)\n",
    "parfois, on n’a pas besoin de __init__ et de self dans une classe, car on ne veut pas créer des objets avec des caractéristiques spécifiques. On veut juste regrouper des fonctions ensemble, dans un endroit ordonné.\n",
    "On veut faire une classe pour des calculs mathématiques, comme additionner, soustraire, etc. Nul besoin que cette classe se souvienne de quelque chose de spécifique pour chaque calcul"
   ]
  },
  {
   "cell_type": "code",
   "execution_count": 7,
   "metadata": {},
   "outputs": [
    {
     "name": "stdout",
     "output_type": "stream",
     "text": [
      "2\n"
     ]
    }
   ],
   "source": [
    "class Calculatrice:\n",
    "    def addition(a, b):\n",
    "        return a + b\n",
    "\n",
    "    def soustraction(a, b):\n",
    "        return a - b\n",
    "\n",
    "calc = Calculatrice.soustraction(10,8)\n",
    "print(calc)"
   ]
  }
 ],
 "metadata": {
  "kernelspec": {
   "display_name": "base",
   "language": "python",
   "name": "python3"
  },
  "language_info": {
   "codemirror_mode": {
    "name": "ipython",
    "version": 3
   },
   "file_extension": ".py",
   "mimetype": "text/x-python",
   "name": "python",
   "nbconvert_exporter": "python",
   "pygments_lexer": "ipython3",
   "version": "3.11.9"
  }
 },
 "nbformat": 4,
 "nbformat_minor": 2
}
